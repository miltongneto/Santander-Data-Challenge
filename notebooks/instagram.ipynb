{
 "cells": [
  {
   "cell_type": "code",
   "execution_count": 1,
   "metadata": {},
   "outputs": [],
   "source": [
    "import pandas as pd"
   ]
  },
  {
   "cell_type": "code",
   "execution_count": 3,
   "metadata": {},
   "outputs": [
    {
     "data": {
      "text/html": [
       "<div>\n",
       "<style scoped>\n",
       "    .dataframe tbody tr th:only-of-type {\n",
       "        vertical-align: middle;\n",
       "    }\n",
       "\n",
       "    .dataframe tbody tr th {\n",
       "        vertical-align: top;\n",
       "    }\n",
       "\n",
       "    .dataframe thead th {\n",
       "        text-align: right;\n",
       "    }\n",
       "</style>\n",
       "<table border=\"1\" class=\"dataframe\">\n",
       "  <thead>\n",
       "    <tr style=\"text-align: right;\">\n",
       "      <th></th>\n",
       "      <th>Name</th>\n",
       "      <th>No. Posts</th>\n",
       "      <th>No. Followers</th>\n",
       "      <th>No. Following</th>\n",
       "      <th>No. Likes Ex 10 post</th>\n",
       "      <th>No. Likes Ex 11 post</th>\n",
       "      <th>No. Likes Ex 12 post</th>\n",
       "      <th>No. self posts from ex 9 posts</th>\n",
       "      <th>Sex</th>\n",
       "      <th>Date</th>\n",
       "    </tr>\n",
       "  </thead>\n",
       "  <tbody>\n",
       "    <tr>\n",
       "      <th>0</th>\n",
       "      <td>User_1</td>\n",
       "      <td>486</td>\n",
       "      <td>279</td>\n",
       "      <td>19</td>\n",
       "      <td>15</td>\n",
       "      <td>10</td>\n",
       "      <td>17</td>\n",
       "      <td>0</td>\n",
       "      <td>m</td>\n",
       "      <td>Mar 14 2017</td>\n",
       "    </tr>\n",
       "    <tr>\n",
       "      <th>1</th>\n",
       "      <td>User_2</td>\n",
       "      <td>401</td>\n",
       "      <td>5509</td>\n",
       "      <td>342</td>\n",
       "      <td>360</td>\n",
       "      <td>440</td>\n",
       "      <td>428</td>\n",
       "      <td>0</td>\n",
       "      <td>f</td>\n",
       "      <td>NaN</td>\n",
       "    </tr>\n",
       "    <tr>\n",
       "      <th>2</th>\n",
       "      <td>User_3</td>\n",
       "      <td>463</td>\n",
       "      <td>453</td>\n",
       "      <td>293</td>\n",
       "      <td>65</td>\n",
       "      <td>68</td>\n",
       "      <td>149</td>\n",
       "      <td>4</td>\n",
       "      <td>f</td>\n",
       "      <td>NaN</td>\n",
       "    </tr>\n",
       "    <tr>\n",
       "      <th>3</th>\n",
       "      <td>User_4</td>\n",
       "      <td>154</td>\n",
       "      <td>1231</td>\n",
       "      <td>1477</td>\n",
       "      <td>53</td>\n",
       "      <td>22</td>\n",
       "      <td>35</td>\n",
       "      <td>3</td>\n",
       "      <td>m</td>\n",
       "      <td>NaN</td>\n",
       "    </tr>\n",
       "    <tr>\n",
       "      <th>4</th>\n",
       "      <td>User_5</td>\n",
       "      <td>786</td>\n",
       "      <td>9620</td>\n",
       "      <td>421</td>\n",
       "      <td>623</td>\n",
       "      <td>1299</td>\n",
       "      <td>544</td>\n",
       "      <td>0</td>\n",
       "      <td>m</td>\n",
       "      <td>NaN</td>\n",
       "    </tr>\n",
       "  </tbody>\n",
       "</table>\n",
       "</div>"
      ],
      "text/plain": [
       "     Name  No. Posts  No. Followers  No. Following  No. Likes Ex 10 post  \\\n",
       "0  User_1        486            279             19                    15   \n",
       "1  User_2        401           5509            342                   360   \n",
       "2  User_3        463            453            293                    65   \n",
       "3  User_4        154           1231           1477                    53   \n",
       "4  User_5        786           9620            421                   623   \n",
       "\n",
       "   No. Likes Ex 11 post  No. Likes Ex 12 post  No. self posts from ex 9 posts  \\\n",
       "0                    10                    17                               0   \n",
       "1                   440                   428                               0   \n",
       "2                    68                   149                               4   \n",
       "3                    22                    35                               3   \n",
       "4                  1299                   544                               0   \n",
       "\n",
       "   Sex         Date  \n",
       "0    m  Mar 14 2017  \n",
       "1    f          NaN  \n",
       "2    f          NaN  \n",
       "3    m          NaN  \n",
       "4    m          NaN  "
      ]
     },
     "execution_count": 3,
     "metadata": {},
     "output_type": "execute_result"
    }
   ],
   "source": [
    "instagram = \"../data/instagram/\"\n",
    "atual = pd.read_excel(instagram+\"MainDataset.xlsx\")\n",
    "atual.head()"
   ]
  },
  {
   "cell_type": "code",
   "execution_count": 5,
   "metadata": {},
   "outputs": [
    {
     "data": {
      "text/plain": [
       "802"
      ]
     },
     "execution_count": 5,
     "metadata": {},
     "output_type": "execute_result"
    }
   ],
   "source": [
    "atual[\"Date\"].isna().sum()"
   ]
  },
  {
   "cell_type": "code",
   "execution_count": 6,
   "metadata": {},
   "outputs": [
    {
     "data": {
      "text/plain": [
       "(818, 10)"
      ]
     },
     "execution_count": 6,
     "metadata": {},
     "output_type": "execute_result"
    }
   ],
   "source": [
    "atual.shape"
   ]
  },
  {
   "cell_type": "code",
   "execution_count": null,
   "metadata": {},
   "outputs": [],
   "source": []
  }
 ],
 "metadata": {
  "kernelspec": {
   "display_name": "Python 3",
   "language": "python",
   "name": "python3"
  },
  "language_info": {
   "codemirror_mode": {
    "name": "ipython",
    "version": 3
   },
   "file_extension": ".py",
   "mimetype": "text/x-python",
   "name": "python",
   "nbconvert_exporter": "python",
   "pygments_lexer": "ipython3",
   "version": "3.6.9"
  }
 },
 "nbformat": 4,
 "nbformat_minor": 2
}
